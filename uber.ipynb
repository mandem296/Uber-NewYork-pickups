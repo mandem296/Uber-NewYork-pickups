{
 "cells": [
  {
   "cell_type": "markdown",
   "metadata": {},
   "source": [
    "test to see of jupyter notebook file is working"
   ]
  },
  {
   "cell_type": "code",
   "execution_count": 1,
   "metadata": {},
   "outputs": [
    {
     "name": "stdout",
     "output_type": "stream",
     "text": [
      "Defaulting to user installation because normal site-packages is not writeable\n",
      "Collecting pymysql\n",
      "  Downloading PyMySQL-1.1.0-py3-none-any.whl (44 kB)\n",
      "\u001b[K     |████████████████████████████████| 44 kB 607 kB/s eta 0:00:01\n",
      "\u001b[?25hInstalling collected packages: pymysql\n",
      "Successfully installed pymysql-1.1.0\n",
      "\u001b[33mWARNING: You are using pip version 21.2.4; however, version 23.2.1 is available.\n",
      "You should consider upgrading via the '/Applications/Xcode.app/Contents/Developer/usr/bin/python3 -m pip install --upgrade pip' command.\u001b[0m\n",
      "Note: you may need to restart the kernel to use updated packages.\n"
     ]
    }
   ],
   "source": [
    "pip install pymysql"
   ]
  },
  {
   "cell_type": "code",
   "execution_count": 7,
   "metadata": {},
   "outputs": [
    {
     "name": "stderr",
     "output_type": "stream",
     "text": [
      "174.58s - pydevd: Sending message related to process being replaced timed-out after 5 seconds\n"
     ]
    },
    {
     "name": "stdout",
     "output_type": "stream",
     "text": [
      "Defaulting to user installation because normal site-packages is not writeable\n",
      "Collecting ipython-sql\n",
      "  Downloading ipython_sql-0.5.0-py3-none-any.whl (20 kB)\n",
      "Collecting prettytable\n",
      "  Downloading prettytable-3.9.0-py3-none-any.whl (27 kB)\n",
      "Collecting ipython-genutils\n",
      "  Downloading ipython_genutils-0.2.0-py2.py3-none-any.whl (26 kB)\n",
      "Requirement already satisfied: six in /Applications/Xcode.app/Contents/Developer/Library/Frameworks/Python3.framework/Versions/3.9/lib/python3.9/site-packages (from ipython-sql) (1.15.0)\n",
      "Collecting sqlparse\n",
      "  Downloading sqlparse-0.4.4-py3-none-any.whl (41 kB)\n",
      "\u001b[K     |████████████████████████████████| 41 kB 492 kB/s eta 0:00:01\n",
      "\u001b[?25hCollecting sqlalchemy>=2.0\n",
      "  Downloading SQLAlchemy-2.0.22-cp39-cp39-macosx_11_0_arm64.whl (2.0 MB)\n",
      "\u001b[K     |████████████████████████████████| 2.0 MB 1.7 MB/s eta 0:00:01\n",
      "\u001b[?25hRequirement already satisfied: ipython in /Users/mandelangatia/Library/Python/3.9/lib/python/site-packages (from ipython-sql) (8.16.1)\n",
      "Requirement already satisfied: typing-extensions>=4.2.0 in /Users/mandelangatia/Library/Python/3.9/lib/python/site-packages (from sqlalchemy>=2.0->ipython-sql) (4.8.0)\n",
      "Requirement already satisfied: prompt-toolkit!=3.0.37,<3.1.0,>=3.0.30 in /Users/mandelangatia/Library/Python/3.9/lib/python/site-packages (from ipython->ipython-sql) (3.0.39)\n",
      "Requirement already satisfied: jedi>=0.16 in /Users/mandelangatia/Library/Python/3.9/lib/python/site-packages (from ipython->ipython-sql) (0.19.1)\n",
      "Requirement already satisfied: pickleshare in /Users/mandelangatia/Library/Python/3.9/lib/python/site-packages (from ipython->ipython-sql) (0.7.5)\n",
      "Requirement already satisfied: pygments>=2.4.0 in /Users/mandelangatia/Library/Python/3.9/lib/python/site-packages (from ipython->ipython-sql) (2.16.1)\n",
      "Requirement already satisfied: exceptiongroup in /Users/mandelangatia/Library/Python/3.9/lib/python/site-packages (from ipython->ipython-sql) (1.1.3)\n",
      "Requirement already satisfied: traitlets>=5 in /Users/mandelangatia/Library/Python/3.9/lib/python/site-packages (from ipython->ipython-sql) (5.11.2)\n",
      "Requirement already satisfied: stack-data in /Users/mandelangatia/Library/Python/3.9/lib/python/site-packages (from ipython->ipython-sql) (0.6.3)\n",
      "Requirement already satisfied: backcall in /Users/mandelangatia/Library/Python/3.9/lib/python/site-packages (from ipython->ipython-sql) (0.2.0)\n",
      "Requirement already satisfied: decorator in /Users/mandelangatia/Library/Python/3.9/lib/python/site-packages (from ipython->ipython-sql) (5.1.1)\n",
      "Requirement already satisfied: matplotlib-inline in /Users/mandelangatia/Library/Python/3.9/lib/python/site-packages (from ipython->ipython-sql) (0.1.6)\n",
      "Requirement already satisfied: pexpect>4.3 in /Users/mandelangatia/Library/Python/3.9/lib/python/site-packages (from ipython->ipython-sql) (4.8.0)\n",
      "Requirement already satisfied: appnope in /Users/mandelangatia/Library/Python/3.9/lib/python/site-packages (from ipython->ipython-sql) (0.1.3)\n",
      "Requirement already satisfied: parso<0.9.0,>=0.8.3 in /Users/mandelangatia/Library/Python/3.9/lib/python/site-packages (from jedi>=0.16->ipython->ipython-sql) (0.8.3)\n",
      "Requirement already satisfied: ptyprocess>=0.5 in /Users/mandelangatia/Library/Python/3.9/lib/python/site-packages (from pexpect>4.3->ipython->ipython-sql) (0.7.0)\n",
      "Requirement already satisfied: wcwidth in /Users/mandelangatia/Library/Python/3.9/lib/python/site-packages (from prompt-toolkit!=3.0.37,<3.1.0,>=3.0.30->ipython->ipython-sql) (0.2.8)\n",
      "Requirement already satisfied: asttokens>=2.1.0 in /Users/mandelangatia/Library/Python/3.9/lib/python/site-packages (from stack-data->ipython->ipython-sql) (2.4.0)\n",
      "Requirement already satisfied: pure-eval in /Users/mandelangatia/Library/Python/3.9/lib/python/site-packages (from stack-data->ipython->ipython-sql) (0.2.2)\n",
      "Requirement already satisfied: executing>=1.2.0 in /Users/mandelangatia/Library/Python/3.9/lib/python/site-packages (from stack-data->ipython->ipython-sql) (2.0.0)\n",
      "Installing collected packages: sqlparse, sqlalchemy, prettytable, ipython-genutils, ipython-sql\n",
      "Successfully installed ipython-genutils-0.2.0 ipython-sql-0.5.0 prettytable-3.9.0 sqlalchemy-2.0.22 sqlparse-0.4.4\n",
      "\u001b[33mWARNING: You are using pip version 21.2.4; however, version 23.2.1 is available.\n",
      "You should consider upgrading via the '/Applications/Xcode.app/Contents/Developer/usr/bin/python3 -m pip install --upgrade pip' command.\u001b[0m\n",
      "Note: you may need to restart the kernel to use updated packages.\n"
     ]
    }
   ],
   "source": [
    "pip install ipython-sql"
   ]
  },
  {
   "cell_type": "code",
   "execution_count": 8,
   "metadata": {},
   "outputs": [],
   "source": [
    "%load_ext sql"
   ]
  }
 ],
 "metadata": {
  "kernelspec": {
   "display_name": "Python 3",
   "language": "python",
   "name": "python3"
  },
  "language_info": {
   "codemirror_mode": {
    "name": "ipython",
    "version": 3
   },
   "file_extension": ".py",
   "mimetype": "text/x-python",
   "name": "python",
   "nbconvert_exporter": "python",
   "pygments_lexer": "ipython3",
   "version": "3.9.6"
  }
 },
 "nbformat": 4,
 "nbformat_minor": 2
}
